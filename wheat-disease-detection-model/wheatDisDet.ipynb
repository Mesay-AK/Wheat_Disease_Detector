{
 "cells": [
  {
   "cell_type": "markdown",
   "id": "fa5147b9",
   "metadata": {},
   "source": [
    "# CNN model to detect wheat diseases"
   ]
  },
  {
   "cell_type": "markdown",
   "id": "831cee03",
   "metadata": {},
   "source": [
    "## Pre-requisites"
   ]
  },
  {
   "cell_type": "markdown",
   "id": "8f3c5ba1",
   "metadata": {},
   "source": [
    "### Importing libraries"
   ]
  },
  {
   "cell_type": "code",
   "execution_count": 4,
   "id": "393f01f7",
   "metadata": {},
   "outputs": [],
   "source": [
    "import numpy as np\n",
    "import cv2\n",
    "import os\n",
    "import matplotlib.pyplot as plt\n",
    "import random\n",
    "from sklearn.model_selection import train_test_split\n",
    "from keras.models import Sequential\n",
    "from keras.layers import Conv2D, MaxPooling2D, Flatten, Dense\n",
    "from tensorflow.keras.preprocessing.image import ImageDataGenerator\n"
   ]
  },
  {
   "cell_type": "markdown",
   "id": "86efbaa2",
   "metadata": {},
   "source": [
    "### Setting the paths of the dataset and images to be classified"
   ]
  },
  {
   "cell_type": "code",
   "execution_count": 5,
   "id": "9859ff6f",
   "metadata": {},
   "outputs": [],
   "source": [
    "dataset_path = 'cropDiseaseDataset'\n",
    "klass_dir = 'testCDD'"
   ]
  },
  {
   "cell_type": "markdown",
   "id": "4c890a84",
   "metadata": {},
   "source": [
    "### Setting the parameters "
   ]
  },
  {
   "cell_type": "code",
   "execution_count": 6,
   "id": "99f63a16",
   "metadata": {},
   "outputs": [],
   "source": [
    "img_size = 64\n",
    "num_classes = 4\n",
    "batch_size = 32"
   ]
  },
  {
   "cell_type": "markdown",
   "id": "c39fdada",
   "metadata": {},
   "source": [
    "### Creating the image and the labels"
   ]
  },
  {
   "cell_type": "code",
   "execution_count": 7,
   "id": "708e4bf1",
   "metadata": {},
   "outputs": [],
   "source": [
    "from sklearn.preprocessing import LabelBinarizer\n",
    "\n",
    "def load_dataset():\n",
    "    images = []\n",
    "    lables = []\n",
    "\n",
    "    classes = os.listdir(dataset_path)\n",
    "    lable_binarizer = LabelBinarizer()\n",
    "\n",
    "    for class_name in classes:\n",
    "        class_path = os.path.join(dataset_path, class_name)\n",
    "\n",
    "        if os.path.isdir(class_path):\n",
    "            for image_name in os.listdir(class_path):\n",
    "                image_path = os.path.join(class_path, image_name)\n",
    "\n",
    "                try:\n",
    "                    image = cv2.imread(image_path)\n",
    "                    if image is not None:\n",
    "                        image = cv2.resize(image, (img_size, img_size))\n",
    "                        images.append(image)\n",
    "                        lables.append(class_name)\n",
    "\n",
    "                    else:\n",
    "                        print(\"skipping invalid image\")\n",
    "                except Exception as e:\n",
    "                    print(\"error on loadng class\", class_path)  \n",
    "\n",
    "    lables = lable_binarizer.fit_transform(lables)\n",
    "    return images, lables\n",
    "    \n"
   ]
  },
  {
   "cell_type": "markdown",
   "id": "55f49164",
   "metadata": {},
   "source": [
    "Images that are not in the correct format are skipped."
   ]
  },
  {
   "cell_type": "code",
   "execution_count": 8,
   "id": "92fc6bc5",
   "metadata": {
    "scrolled": true
   },
   "outputs": [
    {
     "name": "stdout",
     "output_type": "stream",
     "text": [
      "skipping invalid image\n",
      "skipping invalid image\n",
      "skipping invalid image\n",
      "skipping invalid image\n",
      "skipping invalid image\n",
      "skipping invalid image\n",
      "skipping invalid image\n",
      "skipping invalid image\n",
      "skipping invalid image\n",
      "skipping invalid image\n",
      "skipping invalid image\n",
      "skipping invalid image\n",
      "skipping invalid image\n",
      "skipping invalid image\n",
      "skipping invalid image\n",
      "skipping invalid image\n",
      "skipping invalid image\n",
      "skipping invalid image\n",
      "[array([[[197, 204, 207],\n",
      "        [198, 205, 208],\n",
      "        [198, 205, 208],\n",
      "        ...,\n",
      "        [202, 207, 210],\n",
      "        [200, 207, 210],\n",
      "        [202, 208, 211]],\n",
      "\n",
      "       [[197, 204, 207],\n",
      "        [198, 205, 208],\n",
      "        [197, 204, 207],\n",
      "        ...,\n",
      "        [202, 207, 210],\n",
      "        [200, 207, 210],\n",
      "        [202, 208, 211]],\n",
      "\n",
      "       [[200, 205, 208],\n",
      "        [200, 205, 208],\n",
      "        [200, 205, 208],\n",
      "        ...,\n",
      "        [202, 207, 210],\n",
      "        [203, 208, 211],\n",
      "        [201, 206, 209]],\n",
      "\n",
      "       ...,\n",
      "\n",
      "       [[195, 200, 203],\n",
      "        [196, 201, 204],\n",
      "        [203, 207, 211],\n",
      "        ...,\n",
      "        [203, 206, 211],\n",
      "        [203, 208, 211],\n",
      "        [201, 206, 209]],\n",
      "\n",
      "       [[195, 200, 203],\n",
      "        [197, 202, 205],\n",
      "        [199, 204, 207],\n",
      "        ...,\n",
      "        [203, 206, 211],\n",
      "        [201, 206, 209],\n",
      "        [199, 204, 207]],\n",
      "\n",
      "       [[194, 199, 202],\n",
      "        [196, 201, 204],\n",
      "        [199, 204, 207],\n",
      "        ...,\n",
      "        [202, 205, 210],\n",
      "        [200, 205, 208],\n",
      "        [200, 205, 208]]], dtype=uint8), array([[[176, 163, 185],\n",
      "        [176, 163, 185],\n",
      "        [176, 163, 185],\n",
      "        ...,\n",
      "        [189, 172, 205],\n",
      "        [189, 172, 205],\n",
      "        [182, 171, 203]],\n",
      "\n",
      "       [[176, 163, 185],\n",
      "        [176, 163, 185],\n",
      "        [176, 163, 185],\n",
      "        ...,\n",
      "        [189, 172, 205],\n",
      "        [189, 172, 205],\n",
      "        [188, 177, 209]],\n",
      "\n",
      "       [[178, 165, 187],\n",
      "        [178, 165, 187],\n",
      "        [178, 165, 187],\n",
      "        ...,\n",
      "        [190, 173, 206],\n",
      "        [192, 175, 208],\n",
      "        [185, 175, 207]],\n",
      "\n",
      "       ...,\n",
      "\n",
      "       [[166, 148, 171],\n",
      "        [166, 148, 171],\n",
      "        [166, 148, 171],\n",
      "        ...,\n",
      "        [180, 169, 201],\n",
      "        [180, 169, 201],\n",
      "        [180, 169, 201]],\n",
      "\n",
      "       [[166, 148, 171],\n",
      "        [166, 148, 171],\n",
      "        [166, 148, 171],\n",
      "        ...,\n",
      "        [180, 169, 201],\n",
      "        [180, 169, 201],\n",
      "        [180, 169, 201]],\n",
      "\n",
      "       [[166, 148, 171],\n",
      "        [166, 148, 171],\n",
      "        [166, 148, 171],\n",
      "        ...,\n",
      "        [185, 168, 201],\n",
      "        [185, 168, 201],\n",
      "        [180, 169, 201]]], dtype=uint8), array([[[ 54,  57,  51],\n",
      "        [114,  93,  91],\n",
      "        [ 80,  96,  79],\n",
      "        ...,\n",
      "        [113, 103, 103],\n",
      "        [110, 100,  98],\n",
      "        [101,  96,  93]],\n",
      "\n",
      "       [[ 10,  75,  33],\n",
      "        [115,  98,  95],\n",
      "        [ 55, 105,  71],\n",
      "        ...,\n",
      "        [115, 103, 103],\n",
      "        [107, 100,  97],\n",
      "        [104,  99,  96]],\n",
      "\n",
      "       [[  2, 135,  70],\n",
      "        [120,  96,  91],\n",
      "        [ 29, 111,  60],\n",
      "        ...,\n",
      "        [114, 103, 105],\n",
      "        [109, 101, 102],\n",
      "        [107, 101,  96]],\n",
      "\n",
      "       ...,\n",
      "\n",
      "       [[147, 119, 114],\n",
      "        [144, 117, 113],\n",
      "        [115, 160, 158],\n",
      "        ...,\n",
      "        [ 92,  78,  72],\n",
      "        [ 95,  78,  77],\n",
      "        [ 95,  78,  75]],\n",
      "\n",
      "       [[144, 115, 108],\n",
      "        [150, 116, 111],\n",
      "        [127, 167, 183],\n",
      "        ...,\n",
      "        [ 93,  78,  76],\n",
      "        [ 93,  75,  74],\n",
      "        [ 92,  75,  72]],\n",
      "\n",
      "       [[147, 117, 114],\n",
      "        [144, 117, 111],\n",
      "        [145, 169, 199],\n",
      "        ...,\n",
      "        [ 82,  65,  65],\n",
      "        [ 78,  61,  61],\n",
      "        [ 76,  61,  60]]], dtype=uint8), array([[[144, 164,  89],\n",
      "        [145, 165,  90],\n",
      "        [146, 166,  91],\n",
      "        ...,\n",
      "        [133, 148,  80],\n",
      "        [133, 148,  80],\n",
      "        [129, 142,  76]],\n",
      "\n",
      "       [[145, 165,  90],\n",
      "        [146, 166,  91],\n",
      "        [143, 163,  88],\n",
      "        ...,\n",
      "        [131, 146,  78],\n",
      "        [132, 147,  79],\n",
      "        [132, 144,  79]],\n",
      "\n",
      "       [[145, 165,  90],\n",
      "        [146, 166,  91],\n",
      "        [146, 166,  91],\n",
      "        ...,\n",
      "        [134, 149,  81],\n",
      "        [131, 146,  78],\n",
      "        [128, 145,  78]],\n",
      "\n",
      "       ...,\n",
      "\n",
      "       [[161, 181, 104],\n",
      "        [161, 181, 104],\n",
      "        [163, 183, 106],\n",
      "        ...,\n",
      "        [134, 150,  86],\n",
      "        [133, 149,  85],\n",
      "        [134, 147,  84]],\n",
      "\n",
      "       [[162, 182, 105],\n",
      "        [162, 182, 105],\n",
      "        [162, 182, 105],\n",
      "        ...,\n",
      "        [136, 151,  85],\n",
      "        [137, 152,  86],\n",
      "        [135, 148,  83]],\n",
      "\n",
      "       [[161, 181, 104],\n",
      "        [162, 182, 105],\n",
      "        [161, 181, 104],\n",
      "        ...,\n",
      "        [138, 152,  86],\n",
      "        [136, 150,  84],\n",
      "        [137, 148,  84]]], dtype=uint8), array([[[255, 255, 255],\n",
      "        [255, 255, 255],\n",
      "        [255, 255, 255],\n",
      "        ...,\n",
      "        [209, 195, 192],\n",
      "        [208, 193, 190],\n",
      "        [255, 255, 255]],\n",
      "\n",
      "       [[255, 255, 255],\n",
      "        [255, 255, 255],\n",
      "        [255, 255, 255],\n",
      "        ...,\n",
      "        [215, 197, 194],\n",
      "        [213, 198, 195],\n",
      "        [255, 255, 255]],\n",
      "\n",
      "       [[255, 255, 255],\n",
      "        [255, 255, 255],\n",
      "        [208, 208, 208],\n",
      "        ...,\n",
      "        [210, 197, 193],\n",
      "        [212, 197, 194],\n",
      "        [255, 255, 255]],\n",
      "\n",
      "       ...,\n",
      "\n",
      "       [[211, 190, 194],\n",
      "        [215, 200, 199],\n",
      "        [120, 113, 117],\n",
      "        ...,\n",
      "        [250, 248, 250],\n",
      "        [ 45,  72,  92],\n",
      "        [ 68, 101, 125]],\n",
      "\n",
      "       [[255, 255, 255],\n",
      "        [255, 255, 255],\n",
      "        [255, 255, 255],\n",
      "        ...,\n",
      "        [255, 255, 255],\n",
      "        [255, 255, 255],\n",
      "        [255, 255, 255]],\n",
      "\n",
      "       [[255, 255, 255],\n",
      "        [255, 255, 255],\n",
      "        [255, 255, 255],\n",
      "        ...,\n",
      "        [255, 255, 255],\n",
      "        [255, 255, 255],\n",
      "        [255, 255, 255]]], dtype=uint8)] [[0 0 1 0]\n",
      " [0 0 1 0]\n",
      " [0 0 1 0]\n",
      " [0 0 1 0]\n",
      " [0 0 1 0]]\n"
     ]
    }
   ],
   "source": [
    "images, labels = load_dataset()\n",
    "print(images[:5], labels[:5])"
   ]
  },
  {
   "cell_type": "markdown",
   "id": "b448c689",
   "metadata": {},
   "source": [
    "The arrays assigned for the 4 labels are as follows:\n",
    "Crown root rot - 0010, Healthy - 0001, Leaf rust - 1000, Loose smut - 0100"
   ]
  },
  {
   "cell_type": "code",
   "execution_count": null,
   "id": "a9e0062a",
   "metadata": {},
   "outputs": [],
   "source": [
    "for i in labels:\n",
    "    print(i)"
   ]
  },
  {
   "cell_type": "markdown",
   "id": "55ddd5e8",
   "metadata": {},
   "source": [
    "### Preprocessing the dataset"
   ]
  },
  {
   "cell_type": "code",
   "execution_count": 9,
   "id": "d383e037",
   "metadata": {},
   "outputs": [],
   "source": [
    "def preprocess_dataset(images, labels):\n",
    "    images = np.array(images)\n",
    "    images = images.astype('float32') / 255.0\n",
    "    labels = np.array(labels)\n",
    "    return images, labels"
   ]
  },
  {
   "cell_type": "code",
   "execution_count": 10,
   "id": "15963a0e",
   "metadata": {},
   "outputs": [],
   "source": [
    "images, labels = preprocess_dataset(images, labels)"
   ]
  },
  {
   "cell_type": "markdown",
   "id": "0cb909d4",
   "metadata": {},
   "source": [
    "The labels after preprocessing are stored as a NumPy array"
   ]
  },
  {
   "cell_type": "code",
   "execution_count": 11,
   "id": "a984c6e0",
   "metadata": {},
   "outputs": [
    {
     "name": "stdout",
     "output_type": "stream",
     "text": [
      "[[0 0 1 0]\n",
      " [0 0 1 0]\n",
      " [0 0 1 0]\n",
      " [0 0 1 0]\n",
      " [0 0 1 0]]\n"
     ]
    }
   ],
   "source": [
    "print(labels[:5])"
   ]
  },
  {
   "cell_type": "markdown",
   "id": "b0abedca",
   "metadata": {},
   "source": [
    "## Creating the Convolutional Neural Network (CNN)"
   ]
  },
  {
   "cell_type": "markdown",
   "id": "7f8dfca5",
   "metadata": {},
   "source": [
    "### Splitting the data into a training and testing set "
   ]
  },
  {
   "cell_type": "code",
   "execution_count": 13,
   "id": "8064ad94",
   "metadata": {},
   "outputs": [],
   "source": [
    "train_images, test_images, train_labels, test_labels = train_test_split(images, labels, test_size=0.2, random_state=42)"
   ]
  },
  {
   "cell_type": "markdown",
   "id": "750969e1",
   "metadata": {},
   "source": [
    "### Creating the CNN model"
   ]
  },
  {
   "cell_type": "code",
   "execution_count": 16,
   "id": "e8cb2ae4",
   "metadata": {},
   "outputs": [],
   "source": [
    "model = Sequential()\n",
    "model.add(Conv2D(32, (3, 3), activation=\"relu\", input_shape=(img_size, img_size, 3)))\n",
    "model.add(MaxPooling2D(pool_size=(2,2)))\n",
    "model.add(Conv2D(64, (3, 3), activation=\"relu\", input_shape=(img_size, img_size, 3)))\n",
    "model.add(MaxPooling2D(pool_size=(2,2)))\n",
    "\n",
    "model.add(Flatten())\n",
    "\n",
    "model.add(Dense(128, activation=\"relu\"))\n",
    "model.add(Dense(num_classes, activation=\"softmax\"))\n"
   ]
  },
  {
   "cell_type": "markdown",
   "id": "5d04ffd5",
   "metadata": {},
   "source": [
    "### Compiling the CNN model"
   ]
  },
  {
   "cell_type": "code",
   "execution_count": 17,
   "id": "755fd2a3",
   "metadata": {},
   "outputs": [],
   "source": [
    "model.compile(optimizer='adam', loss='categorical_crossentropy', metrics=['accuracy'])"
   ]
  },
  {
   "cell_type": "markdown",
   "id": "f61ab104",
   "metadata": {},
   "source": [
    "### Augmenting the training data "
   ]
  },
  {
   "cell_type": "code",
   "execution_count": 18,
   "id": "96b56853",
   "metadata": {},
   "outputs": [],
   "source": [
    "data_generator = ImageDataGenerator(rotation_range=20, width_shift_range=0.1, height_shift_range=0.1, horizontal_flip=True)\n",
    "data_generator.fit(train_images)"
   ]
  },
  {
   "cell_type": "markdown",
   "id": "de918449",
   "metadata": {},
   "source": [
    "### Training the model with the training data"
   ]
  },
  {
   "cell_type": "markdown",
   "id": "65857df1",
   "metadata": {},
   "source": [
    "The history variable stores the values of accuracy and loss after each epoch, which are then used to plot the graph"
   ]
  },
  {
   "cell_type": "code",
   "execution_count": 19,
   "id": "689c4ebd",
   "metadata": {
    "scrolled": true
   },
   "outputs": [
    {
     "name": "stdout",
     "output_type": "stream",
     "text": [
      "Epoch 1/50\n",
      "84/84 [==============================] - 10s 108ms/step - loss: 1.1229 - accuracy: 0.4891\n",
      "Epoch 2/50\n",
      "84/84 [==============================] - 8s 92ms/step - loss: 0.9839 - accuracy: 0.5838\n",
      "Epoch 3/50\n",
      "84/84 [==============================] - 7s 82ms/step - loss: 0.9217 - accuracy: 0.6165\n",
      "Epoch 4/50\n",
      "84/84 [==============================] - 7s 87ms/step - loss: 0.8854 - accuracy: 0.6342\n",
      "Epoch 5/50\n",
      "84/84 [==============================] - 8s 92ms/step - loss: 0.8574 - accuracy: 0.6530\n",
      "Epoch 6/50\n",
      "84/84 [==============================] - 6s 77ms/step - loss: 0.8278 - accuracy: 0.6617\n",
      "Epoch 7/50\n",
      "84/84 [==============================] - 7s 85ms/step - loss: 0.8133 - accuracy: 0.6692\n",
      "Epoch 8/50\n",
      "84/84 [==============================] - 8s 100ms/step - loss: 0.7891 - accuracy: 0.6812\n",
      "Epoch 9/50\n",
      "84/84 [==============================] - 11s 133ms/step - loss: 0.7630 - accuracy: 0.6887\n",
      "Epoch 10/50\n",
      "84/84 [==============================] - 8s 98ms/step - loss: 0.7540 - accuracy: 0.6921\n",
      "Epoch 11/50\n",
      "84/84 [==============================] - 8s 99ms/step - loss: 0.7323 - accuracy: 0.7041\n",
      "Epoch 12/50\n",
      "84/84 [==============================] - 9s 103ms/step - loss: 0.7148 - accuracy: 0.7041\n",
      "Epoch 13/50\n",
      "84/84 [==============================] - 8s 97ms/step - loss: 0.6919 - accuracy: 0.7218\n",
      "Epoch 14/50\n",
      "84/84 [==============================] - 8s 97ms/step - loss: 0.6649 - accuracy: 0.7282\n",
      "Epoch 15/50\n",
      "84/84 [==============================] - 9s 102ms/step - loss: 0.6605 - accuracy: 0.7372\n",
      "Epoch 16/50\n",
      "84/84 [==============================] - 9s 109ms/step - loss: 0.6403 - accuracy: 0.7466\n",
      "Epoch 17/50\n",
      "84/84 [==============================] - 9s 109ms/step - loss: 0.6027 - accuracy: 0.7541\n",
      "Epoch 18/50\n",
      "84/84 [==============================] - 10s 113ms/step - loss: 0.5731 - accuracy: 0.7782\n",
      "Epoch 19/50\n",
      "84/84 [==============================] - 9s 101ms/step - loss: 0.5714 - accuracy: 0.7692\n",
      "Epoch 20/50\n",
      "84/84 [==============================] - 9s 102ms/step - loss: 0.5626 - accuracy: 0.7752\n",
      "Epoch 21/50\n",
      "84/84 [==============================] - 9s 109ms/step - loss: 0.5047 - accuracy: 0.8128\n",
      "Epoch 22/50\n",
      "84/84 [==============================] - 9s 106ms/step - loss: 0.5332 - accuracy: 0.7898\n",
      "Epoch 23/50\n",
      "84/84 [==============================] - 10s 116ms/step - loss: 0.5016 - accuracy: 0.8068\n",
      "Epoch 24/50\n",
      "84/84 [==============================] - 9s 107ms/step - loss: 0.4372 - accuracy: 0.8301\n",
      "Epoch 25/50\n",
      "84/84 [==============================] - 10s 113ms/step - loss: 0.4954 - accuracy: 0.8128\n",
      "Epoch 26/50\n",
      "84/84 [==============================] - 9s 103ms/step - loss: 0.4526 - accuracy: 0.8241\n",
      "Epoch 27/50\n",
      "84/84 [==============================] - 11s 132ms/step - loss: 0.4250 - accuracy: 0.8338\n",
      "Epoch 28/50\n",
      "84/84 [==============================] - 10s 114ms/step - loss: 0.4365 - accuracy: 0.8353\n",
      "Epoch 29/50\n",
      "84/84 [==============================] - 9s 110ms/step - loss: 0.4002 - accuracy: 0.8508\n",
      "Epoch 30/50\n",
      "84/84 [==============================] - 10s 112ms/step - loss: 0.3631 - accuracy: 0.8598\n",
      "Epoch 31/50\n",
      "84/84 [==============================] - 9s 110ms/step - loss: 0.3610 - accuracy: 0.8673\n",
      "Epoch 32/50\n",
      "84/84 [==============================] - 9s 106ms/step - loss: 0.3583 - accuracy: 0.8628\n",
      "Epoch 33/50\n",
      "84/84 [==============================] - 9s 101ms/step - loss: 0.3553 - accuracy: 0.8722\n",
      "Epoch 34/50\n",
      "84/84 [==============================] - 9s 102ms/step - loss: 0.3267 - accuracy: 0.8733\n",
      "Epoch 35/50\n",
      "84/84 [==============================] - 12s 137ms/step - loss: 0.3300 - accuracy: 0.8827\n",
      "Epoch 36/50\n",
      "84/84 [==============================] - 9s 104ms/step - loss: 0.3218 - accuracy: 0.8756\n",
      "Epoch 37/50\n",
      "84/84 [==============================] - 9s 102ms/step - loss: 0.2726 - accuracy: 0.8974\n",
      "Epoch 38/50\n",
      "84/84 [==============================] - 9s 101ms/step - loss: 0.2854 - accuracy: 0.8883\n",
      "Epoch 39/50\n",
      "84/84 [==============================] - 9s 101ms/step - loss: 0.2804 - accuracy: 0.8962\n",
      "Epoch 40/50\n",
      "84/84 [==============================] - 9s 102ms/step - loss: 0.2724 - accuracy: 0.8936\n",
      "Epoch 41/50\n",
      "84/84 [==============================] - 9s 101ms/step - loss: 0.2880 - accuracy: 0.8880\n",
      "Epoch 42/50\n",
      "84/84 [==============================] - 9s 102ms/step - loss: 0.2499 - accuracy: 0.9109\n",
      "Epoch 43/50\n",
      "84/84 [==============================] - 8s 98ms/step - loss: 0.2458 - accuracy: 0.9132\n",
      "Epoch 44/50\n",
      "84/84 [==============================] - 9s 101ms/step - loss: 0.2168 - accuracy: 0.9207\n",
      "Epoch 45/50\n",
      "84/84 [==============================] - 9s 104ms/step - loss: 0.2257 - accuracy: 0.9192\n",
      "Epoch 46/50\n",
      "84/84 [==============================] - 8s 99ms/step - loss: 0.2568 - accuracy: 0.9086\n",
      "Epoch 47/50\n",
      "84/84 [==============================] - 7s 87ms/step - loss: 0.2098 - accuracy: 0.9278\n",
      "Epoch 48/50\n",
      "84/84 [==============================] - 8s 94ms/step - loss: 0.2191 - accuracy: 0.9248\n",
      "Epoch 49/50\n",
      "84/84 [==============================] - 9s 105ms/step - loss: 0.2097 - accuracy: 0.9248\n",
      "Epoch 50/50\n",
      "84/84 [==============================] - 10s 117ms/step - loss: 0.2097 - accuracy: 0.9286\n"
     ]
    }
   ],
   "source": [
    "history = model.fit(data_generator.flow(train_images, train_labels, batch_size=batch_size), steps_per_epoch=len(train_images) // batch_size, epochs=50)"
   ]
  },
  {
   "cell_type": "markdown",
   "id": "e3ca90f0",
   "metadata": {},
   "source": [
    "### The graphs of accuracy and loss after each epoch are plotted"
   ]
  },
  {
   "cell_type": "markdown",
   "id": "11d11a31",
   "metadata": {},
   "source": [
    "These graphs show a logarithmic trend"
   ]
  },
  {
   "cell_type": "code",
   "execution_count": 15,
   "id": "55e28196",
   "metadata": {},
   "outputs": [
    {
     "data": {
      "image/png": "[encoded data removed]",
      "text/plain": [
       "<Figure size 640x480 with 1 Axes>"
      ]
     },
     "metadata": {},
     "output_type": "display_data"
    },
    {
     "data": {
      "image/png": "[encoded data removed]",
      "text/plain": [
       "<Figure size 640x480 with 1 Axes>"
      ]
     },
     "metadata": {},
     "output_type": "display_data"
    }
   ],
   "source": [
    "# Plot accuracy\n",
    "plt.plot(history.history['accuracy'])\n",
    "plt.title('Model Accuracy')\n",
    "plt.xlabel('Epoch')\n",
    "plt.ylabel('Accuracy')\n",
    "plt.legend(['train', 'validation'], loc='upper left')\n",
    "plt.show()\n",
    "\n",
    "# Plot loss\n",
    "plt.plot(history.history['loss'])\n",
    "plt.title('Model Loss')\n",
    "plt.xlabel('Epoch')\n",
    "plt.ylabel('Loss')\n",
    "plt.legend(['train', 'validation'], loc='upper right')\n",
    "plt.show()"
   ]
  },
  {
   "cell_type": "markdown",
   "id": "2fbe3ed0",
   "metadata": {},
   "source": [
    "### Evaluating the model"
   ]
  },
  {
   "cell_type": "markdown",
   "id": "c0797aa7",
   "metadata": {},
   "source": [
    "The model's loss and accuracy is evaluted against the test data"
   ]
  },
  {
   "cell_type": "code",
   "execution_count": 16,
   "id": "f8b61da0",
   "metadata": {},
   "outputs": [
    {
     "name": "stdout",
     "output_type": "stream",
     "text": [
      "22/22 [==============================] - 3s 60ms/step - loss: 0.3815 - accuracy: 0.9080\n",
      "Test Loss: 0.3815496563911438\n",
      "Test Accuracy: 0.9080118536949158\n"
     ]
    }
   ],
   "source": [
    "# Evaluate the model\n",
    "loss, accuracy = model.evaluate(test_images, test_labels)\n",
    "print(\"Test Loss:\", loss)\n",
    "print(\"Test Accuracy:\", accuracy)"
   ]
  },
  {
   "cell_type": "markdown",
   "id": "35a721e3",
   "metadata": {},
   "source": [
    "A testing accuracy of 83% indicates that the model is accurate"
   ]
  },
  {
   "cell_type": "markdown",
   "id": "3b7e5bd8",
   "metadata": {},
   "source": [
    "## Classifying images "
   ]
  },
  {
   "cell_type": "markdown",
   "id": "197e3b57",
   "metadata": {},
   "source": [
    "### Initializing the arrays"
   ]
  },
  {
   "cell_type": "code",
   "execution_count": 17,
   "id": "934bde4a",
   "metadata": {},
   "outputs": [],
   "source": [
    "images_to_be_classified = os.listdir(klass_dir)\n",
    "resized_images = []"
   ]
  },
  {
   "cell_type": "markdown",
   "id": "e0e5ec25",
   "metadata": {},
   "source": [
    "### Preprocessing the images"
   ]
  },
  {
   "cell_type": "markdown",
   "id": "4295b3ad",
   "metadata": {},
   "source": [
    "This is done to make the images compatible with the model, as it can function accurately only if a particular format of images is used"
   ]
  },
  {
   "cell_type": "code",
   "execution_count": 18,
   "id": "f07685c8",
   "metadata": {},
   "outputs": [],
   "source": [
    "for image_name in images_to_be_classified:\n",
    "    # Construct the full path to the image\n",
    "    image_path = os.path.join(klass_dir, image_name)\n",
    "    # Load the image using OpenCV\n",
    "    image = cv2.imread(image_path)\n",
    "    # Resize the image\n",
    "    resized_image = cv2.resize(image, (img_size, img_size))\n",
    "    # Append the resized image to the list\n",
    "    resized_images.append(resized_image)"
   ]
  },
  {
   "cell_type": "code",
   "execution_count": 19,
   "id": "f1e0626f",
   "metadata": {},
   "outputs": [],
   "source": [
    "resized_images = np.array(resized_images)"
   ]
  },
  {
   "cell_type": "code",
   "execution_count": 20,
   "id": "74e6fbcc",
   "metadata": {},
   "outputs": [],
   "source": [
    "resized_images = resized_images / 255.0"
   ]
  },
  {
   "cell_type": "markdown",
   "id": "3dcac5fa",
   "metadata": {},
   "source": [
    "### Predicting image labels"
   ]
  },
  {
   "cell_type": "code",
   "execution_count": 21,
   "id": "e4bc1801",
   "metadata": {},
   "outputs": [
    {
     "name": "stdout",
     "output_type": "stream",
     "text": [
      "1/1 [==============================] - 0s 210ms/step\n"
     ]
    }
   ],
   "source": [
    "predictions = model.predict(resized_images)"
   ]
  },
  {
   "cell_type": "markdown",
   "id": "94ccde01",
   "metadata": {},
   "source": [
    "### Printing image names along with their corresponding labels"
   ]
  },
  {
   "cell_type": "markdown",
   "id": "d7d5d34c",
   "metadata": {},
   "source": [
    "The labels with their corresponding arrays are as follows:\n",
    "Crown root rot - 0010, Healthy - 0001, Leaf rust - 1000, Loose smut - 0100"
   ]
  },
  {
   "cell_type": "code",
   "execution_count": 22,
   "id": "cca8a7e2",
   "metadata": {},
   "outputs": [
    {
     "name": "stdout",
     "output_type": "stream",
     "text": [
      "Image: 000003 (2).jpg Predicted Label: [1. 0. 0. 0.]\n",
      "Image: crr_1.jpg Predicted Label: [0. 0. 1. 0.]\n",
      "Image: crr_2.jpg Predicted Label: [0. 0. 1. 0.]\n",
      "Image: h_1.jpg Predicted Label: [0. 0. 0. 1.]\n",
      "Image: h_2.jpg Predicted Label: [0. 1. 0. 0.]\n",
      "Image: images (1).jpg Predicted Label: [0. 0. 1. 0.]\n",
      "Image: images.jpg Predicted Label: [0. 1. 0. 0.]\n",
      "Image: istockphoto-1358387551-612x612.jpg Predicted Label: [1. 0. 0. 0.]\n",
      "Image: istockphoto-182175441-612x612.jpg Predicted Label: [0. 0. 0. 1.]\n",
      "Image: lr_1.jpg Predicted Label: [1. 0. 0. 0.]\n",
      "Image: lr_2.jpg Predicted Label: [0. 0. 1. 0.]\n",
      "Image: ls_1.jpg Predicted Label: [0. 1. 0. 0.]\n",
      "Image: ls_2.jpg Predicted Label: [0. 1. 0. 0.]\n",
      "Image: user.png Predicted Label: [0. 0. 1. 0.]\n"
     ]
    }
   ],
   "source": [
    "for i in range(len(images_to_be_classified)):\n",
    "    image_name = images_to_be_classified[i]\n",
    "    prediction = predictions[i]\n",
    "    rounded_prediction = (np.round(prediction))\n",
    "    print(\"Image:\", image_name, \"Predicted Label:\", rounded_prediction)"
   ]
  },
  {
   "cell_type": "markdown",
   "id": "a6101dd8",
   "metadata": {},
   "source": [
    "It is observed that out of the 8 images, 6 images are correctly identified."
   ]
  },
  {
   "cell_type": "markdown",
   "id": "8b3eaa91",
   "metadata": {},
   "source": [
    "### Saving the model"
   ]
  },
  {
   "cell_type": "markdown",
   "id": "f9547af2",
   "metadata": {},
   "source": [
    "The model is saved as an H5 file. This format is used as both weights and model configuration can be stored in the same file."
   ]
  },
  {
   "cell_type": "code",
   "execution_count": 23,
   "id": "5e2a72d3",
   "metadata": {},
   "outputs": [],
   "source": [
    "model.save('wheatDiseaseModel.h5')"
   ]
  },
  {
   "cell_type": "code",
   "execution_count": 24,
   "id": "4dda41d1",
   "metadata": {},
   "outputs": [
    {
     "name": "stderr",
     "output_type": "stream",
     "text": [
      "WARNING:absl:Found untraced functions such as _jit_compiled_convolution_op, _jit_compiled_convolution_op, _jit_compiled_convolution_op while saving (showing 3 of 3). These functions will not be directly callable after loading.\n"
     ]
    },
    {
     "name": "stdout",
     "output_type": "stream",
     "text": [
      "INFO:tensorflow:Assets written to: C:\\Users\\Rose\\AppData\\Local\\Temp\\tmpq3clio72\\assets\n"
     ]
    },
    {
     "name": "stderr",
     "output_type": "stream",
     "text": [
      "INFO:tensorflow:Assets written to: C:\\Users\\Rose\\AppData\\Local\\Temp\\tmpq3clio72\\assets\n"
     ]
    }
   ],
   "source": [
    "import tensorflow as tf\n",
    "\n",
    "# Load your model\n",
    "model = tf.keras.models.load_model('wheatDiseaseModel.h5')\n",
    "\n",
    "# Convert the model to TensorFlow Lite format\n",
    "converter = tf.lite.TFLiteConverter.from_keras_model(model)\n",
    "tflite_model = converter.convert()\n",
    "\n",
    "# Save the .tflite model\n",
    "with open('model.tflite', 'wb') as f:\n",
    "    f.write(tflite_model)\n"
   ]
  },
  {
   "cell_type": "code",
   "execution_count": null,
   "id": "df41d18a",
   "metadata": {},
   "outputs": [],
   "source": []
  }
 ],
 "metadata": {
  "kernelspec": {
   "display_name": "tf",
   "language": "python",
   "name": "python3"
  },
  "language_info": {
   "codemirror_mode": {
    "name": "ipython",
    "version": 3
   },
   "file_extension": ".py",
   "mimetype": "text/x-python",
   "name": "python",
   "nbconvert_exporter": "python",
   "pygments_lexer": "ipython3",
   "version": "3.10.13"
  }
 },
 "nbformat": 4,
 "nbformat_minor": 5
}
